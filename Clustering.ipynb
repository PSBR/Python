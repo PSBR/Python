{
  "nbformat": 4,
  "nbformat_minor": 0,
  "metadata": {
    "colab": {
      "name": "184hw4.ipynb",
      "provenance": [],
      "collapsed_sections": []
    },
    "kernelspec": {
      "name": "python3",
      "display_name": "Python 3"
    }
  },
  "cells": [
    {
      "cell_type": "markdown",
      "metadata": {
        "id": "li_bxBjj5Xx9"
      },
      "source": [
        "## Homework 4\n",
        
        "### Due - 11/30/2020 - 11:59p - 20 points\n",
        "\n",
        "**Name:** `<Patrick Brennan>`\n",
        "\n",
        "**Email** `<Pbrennan@scu.edu>`\n",
        "\n",
        "**Problem Statement** - You are given some data points. Your task is to form clusters to see how these points can be grouped using `k-means` clustering algorithm using `scikit-learn`. \n",
        "\n",
        "**Submission Instructions:** \n",
        "* Please download `HW4.ipynb` and insert cells in the file to complete your homework and submit the same file to Camino under `Assignment` $\\rightarrow$ `Homework` $\\rightarrow$ `HW4`. Please feel free to use the `Files` $\\rightarrow$ `sample code` $\\rightarrow$ `w9-kmeans-sklearn.ipynb` as a reference to work on this homework.\n",
        "\n",
        "**Honor Code:** You are expected to complete the homework on your own. Solutions might exist elsewhere, but you are not allowed to copy them. "
      ]
    },
    {
      "cell_type": "code",
      "metadata": {
        "id": "ck5AM4B85FLH"
      },
      "source": [
        "# import libraries\n",
        "import numpy as np\n",
        "import pandas as pd\n",
        "import matplotlib.pyplot as plt\n",
        "from sklearn.cluster import KMeans"
      ],
      "execution_count": null,
      "outputs": []
    },
    {
      "cell_type": "code",
      "metadata": {
        "id": "nM-52hEY5nGx"
      },
      "source": [
        "# your dataset\n",
        "X = np.array([[5,3],\n",
        "     [10,15],\n",
        "     [15,12],\n",
        "     [24,10],\n",
        "     [30,45],\n",
        "     [85,70],\n",
        "     [71,80],\n",
        "     [60,78],\n",
        "     [55,52],\n",
        "     [80,91],])"
      ],
      "execution_count": null,
      "outputs": []
    },
    {
      "cell_type": "code",
      "metadata": {
        "id": "40vbvY4R5uXj",
        "colab": {
          "base_uri": "https://localhost:8080/",
          "height": 282
        },
        "outputId": "ac9947ee-17ac-46db-d035-ac728225d062"
      },
      "source": [
        "# visualize the data\n",
        "plt.scatter(X[:,0], X[:,1], label='True Position')\n"
      ],
      "execution_count": null,
      "outputs": [
        {
          "output_type": "execute_result",
          "data": {
            "text/plain": [
              "<matplotlib.collections.PathCollection at 0x7faaede17eb8>"
            ]
          },
          "metadata": {
            "tags": []
          },
          "execution_count": 7
        },
        {
          "output_type": "display_data",
          "data": {
            "image/png": "[encoded data removed]",
            "text/plain": [
              "<Figure size 432x288 with 1 Axes>"
            ]
          },
          "metadata": {
            "tags": [],
            "needs_background": "light"
          }
        }
      ]
    },
    {
      "cell_type": "code",
      "metadata": {
        "id": "adDsMIDV50_Q",
        "colab": {
          "base_uri": "https://localhost:8080/"
        },
        "outputId": "45ed9253-7cdd-4452-97f3-d928a84a45c6"
      },
      "source": [
        "# create clusters\n",
        "# choose k = 2\n",
        "kmeans = KMeans(n_clusters=2)\n",
        "kmeans.fit(X)"
      ],
      "execution_count": null,
      "outputs": [
        {
          "output_type": "execute_result",
          "data": {
            "text/plain": [
              "KMeans(algorithm='auto', copy_x=True, init='k-means++', max_iter=300,\n",
              "       n_clusters=2, n_init=10, n_jobs=None, precompute_distances='auto',\n",
              "       random_state=None, tol=0.0001, verbose=0)"
            ]
          },
          "metadata": {
            "tags": []
          },
          "execution_count": 8
        }
      ]
    },
    {
      "cell_type": "code",
      "metadata": {
        "id": "baBF7YvP5920",
        "colab": {
          "base_uri": "https://localhost:8080/"
        },
        "outputId": "719abf53-b2c2-4921-9908-48b49262e511"
      },
      "source": [
        "# print cluster centers\n",
        "print(kmeans.cluster_centers_)"
      ],
      "execution_count": null,
      "outputs": [
        {
          "output_type": "stream",
          "text": [
            "[[16.8 17. ]\n",
            " [70.2 74.2]]\n"
          ],
          "name": "stdout"
        }
      ]
    },
    {
      "cell_type": "code",
      "metadata": {
        "id": "2GuDgdnf6Eha",
        "colab": {
          "base_uri": "https://localhost:8080/"
        },
        "outputId": "2736bec3-99e8-4a78-dd0c-68668ac51916"
      },
      "source": [
        "# check the labels of the data points\n",
        "print(kmeans.labels_)"
      ],
      "execution_count": null,
      "outputs": [
        {
          "output_type": "stream",
          "text": [
            "[0 0 0 0 0 1 1 1 1 1]\n"
          ],
          "name": "stdout"
        }
      ]
    },
    {
      "cell_type": "code",
      "metadata": {
        "id": "0nKv4LAt6T1v",
        "colab": {
          "base_uri": "https://localhost:8080/",
          "height": 282
        },
        "outputId": "4414c52c-6440-4821-dede-a604e59d2c66"
      },
      "source": [
        "# plot the data points again on the graph to visualize the clusters\n",
        "# along with the cluster centers\n",
        "plt.scatter(X[:,0], X[:,1], c=kmeans.labels_, cmap='rainbow')"
      ],
      "execution_count": null,
      "outputs": [
        {
          "output_type": "execute_result",
          "data": {
            "text/plain": [
              "<matplotlib.collections.PathCollection at 0x7faaedce1b00>"
            ]
          },
          "metadata": {
            "tags": []
          },
          "execution_count": 11
        },
        {
          "output_type": "display_data",
          "data": {
            "image/png": "[encoded data removed]",
            "text/plain": [
              "<Figure size 432x288 with 1 Axes>"
            ]
          },
          "metadata": {
            "tags": [],
            "needs_background": "light"
          }
        }
      ]
    }
  ]
}
